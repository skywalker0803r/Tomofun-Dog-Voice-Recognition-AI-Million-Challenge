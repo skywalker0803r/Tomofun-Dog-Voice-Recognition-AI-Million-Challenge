{
 "cells": [
  {
   "cell_type": "code",
   "execution_count": 50,
   "metadata": {},
   "outputs": [
    {
     "name": "stdout",
     "output_type": "stream",
     "text": [
      "1.8.0+cu111\n"
     ]
    }
   ],
   "source": [
    "import torchaudio\n",
    "torchaudio.set_audio_backend(\"soundfile\")\n",
    "import pandas as pd\n",
    "from torch.utils.data import Dataset, DataLoader\n",
    "from torch.nn import functional as F\n",
    "import torch\n",
    "print(torch.__version__)\n",
    "from torch import nn\n",
    "from tqdm import tqdm\n",
    "from torch.optim import Adam,SGD,RMSprop\n",
    "import matplotlib.pyplot as plt\n",
    "import os\n",
    "import warnings\n",
    "import gc\n",
    "from copy import deepcopy\n",
    "from sklearn.metrics import roc_auc_score\n",
    "from sklearn.preprocessing import OneHotEncoder\n",
    "import librosa\n",
    "import numpy as np\n",
    "import noisereduce as nr\n",
    "import malaya_speech\n",
    "from malaya_speech import Pipeline\n",
    "import IPython.display as ipd\n",
    "warnings.filterwarnings(\"ignore\")\n",
    "from pysptk.sptk import rapt\n",
    "from efficientnet_pytorch import EfficientNet\n",
    "import gc\n",
    "import random"
   ]
  },
  {
   "cell_type": "code",
   "execution_count": 51,
   "metadata": {},
   "outputs": [],
   "source": [
    "seed = 5290 #沛茵生日 \n",
    "def set_seed(seed):\n",
    "    random.seed(seed)\n",
    "    np.random.seed(seed)\n",
    "    torch.manual_seed(seed)\n",
    "    torch.cuda.manual_seed_all(seed)\n",
    "set_seed(seed)"
   ]
  },
  {
   "cell_type": "markdown",
   "metadata": {},
   "source": [
    "# path"
   ]
  },
  {
   "cell_type": "code",
   "execution_count": 52,
   "metadata": {},
   "outputs": [],
   "source": [
    "X_train_dir = 'train/train/'\n",
    "X_test_dir = 'public_test/public_test/'\n",
    "Y_train_path = 'train/meta_train.csv'"
   ]
  },
  {
   "cell_type": "markdown",
   "metadata": {},
   "source": [
    "# load data"
   ]
  },
  {
   "cell_type": "code",
   "execution_count": 53,
   "metadata": {},
   "outputs": [],
   "source": [
    "def preprocessing_X(wav_dir):\n",
    "    files = os.listdir(wav_dir)\n",
    "    files.sort() #正確排序很重要!!!!!!!!!!!!!!!!!!!!!!!!!!!!!!!!\n",
    "    X = torch.FloatTensor([])\n",
    "    for f in tqdm(files[:]):\n",
    "        try:\n",
    "            samples, sample_rate = malaya_speech.load(X_train_dir+f)\n",
    "            melspectrogram = wav2featuresflow(samples,sr=sample_rate)\n",
    "            melspectrogram = melspectrogram.reshape(-1,80,157).copy()\n",
    "            melspectrogram = torch.from_numpy(melspectrogram)\n",
    "            X = torch.cat([X,torch.unsqueeze(melspectrogram,0)],dim=0)\n",
    "            gc.collect()\n",
    "        except:\n",
    "            print(f)\n",
    "    print('X shape:',X.shape)\n",
    "    return X\n",
    "\n",
    "def preprocessing_Y(file_path):\n",
    "    Y = pd.read_csv(file_path).iloc[:,:]\n",
    "    Y = Y[Y.Filename != 'train_01046']\n",
    "    enc = OneHotEncoder().fit(Y[['Label']])\n",
    "    Y_one_hot = enc.transform(Y[['Label']]).toarray()\n",
    "    Y_one_hot = torch.FloatTensor(Y_one_hot)\n",
    "    print('Y_ont_hot shape',Y_one_hot.shape)\n",
    "    print('Y_df shape',Y.shape)\n",
    "    return Y_one_hot,Y"
   ]
  },
  {
   "cell_type": "code",
   "execution_count": 54,
   "metadata": {},
   "outputs": [
    {
     "data": {
      "text/plain": [
       "6194"
      ]
     },
     "execution_count": 54,
     "metadata": {},
     "output_type": "execute_result"
    }
   ],
   "source": [
    "X_train_all = torch.load('X_train_吳啟聖教的方法.pt')\n",
    "X_test_all = torch.load('X_test_吳啟聖教的方法.pt')\n",
    "gc.collect()"
   ]
  },
  {
   "cell_type": "code",
   "execution_count": 55,
   "metadata": {},
   "outputs": [
    {
     "name": "stdout",
     "output_type": "stream",
     "text": [
      "Y_ont_hot shape torch.Size([1199, 6])\n",
      "Y_df shape (1199, 3)\n",
      "torch.Size([1199, 6])\n"
     ]
    },
    {
     "data": {
      "text/plain": [
       "{0: 'Barking',\n",
       " 1: 'Howling',\n",
       " 2: 'Crying',\n",
       " 3: 'COSmoke',\n",
       " 4: 'GlassBreaking',\n",
       " 5: 'Blender'}"
      ]
     },
     "execution_count": 55,
     "metadata": {},
     "output_type": "execute_result"
    }
   ],
   "source": [
    "Y_train_all,Y_train_df = preprocessing_Y(Y_train_path)\n",
    "print(Y_train_all.shape)\n",
    "map_dict = {}\n",
    "for l in Y_train_df.Label.unique():\n",
    "    map_dict[l] = Y_train_df[Y_train_df.Label==l].sample(1)['Remark'].values[0]\n",
    "map_dict"
   ]
  },
  {
   "cell_type": "code",
   "execution_count": 56,
   "metadata": {},
   "outputs": [
    {
     "data": {
      "text/html": [
       "<div>\n",
       "<style scoped>\n",
       "    .dataframe tbody tr th:only-of-type {\n",
       "        vertical-align: middle;\n",
       "    }\n",
       "\n",
       "    .dataframe tbody tr th {\n",
       "        vertical-align: top;\n",
       "    }\n",
       "\n",
       "    .dataframe thead th {\n",
       "        text-align: right;\n",
       "    }\n",
       "</style>\n",
       "<table border=\"1\" class=\"dataframe\">\n",
       "  <thead>\n",
       "    <tr style=\"text-align: right;\">\n",
       "      <th></th>\n",
       "      <th>Filename</th>\n",
       "      <th>Barking</th>\n",
       "      <th>Howling</th>\n",
       "      <th>Crying</th>\n",
       "      <th>COSmoke</th>\n",
       "      <th>GlassBreaking</th>\n",
       "      <th>Other</th>\n",
       "    </tr>\n",
       "  </thead>\n",
       "  <tbody>\n",
       "    <tr>\n",
       "      <th>0</th>\n",
       "      <td>public_00001</td>\n",
       "      <td>0.015718</td>\n",
       "      <td>0.024436</td>\n",
       "      <td>0.072592</td>\n",
       "      <td>0.006425</td>\n",
       "      <td>0.405442</td>\n",
       "      <td>0.475387</td>\n",
       "    </tr>\n",
       "    <tr>\n",
       "      <th>1</th>\n",
       "      <td>public_00002</td>\n",
       "      <td>0.069019</td>\n",
       "      <td>0.005622</td>\n",
       "      <td>0.061248</td>\n",
       "      <td>0.055104</td>\n",
       "      <td>0.008110</td>\n",
       "      <td>0.800898</td>\n",
       "    </tr>\n",
       "    <tr>\n",
       "      <th>2</th>\n",
       "      <td>public_00003</td>\n",
       "      <td>0.843593</td>\n",
       "      <td>0.002444</td>\n",
       "      <td>0.003287</td>\n",
       "      <td>0.077840</td>\n",
       "      <td>0.058815</td>\n",
       "      <td>0.014021</td>\n",
       "    </tr>\n",
       "    <tr>\n",
       "      <th>3</th>\n",
       "      <td>public_00004</td>\n",
       "      <td>0.038729</td>\n",
       "      <td>0.004414</td>\n",
       "      <td>0.054868</td>\n",
       "      <td>0.041895</td>\n",
       "      <td>0.116355</td>\n",
       "      <td>0.743739</td>\n",
       "    </tr>\n",
       "    <tr>\n",
       "      <th>4</th>\n",
       "      <td>public_00005</td>\n",
       "      <td>0.535658</td>\n",
       "      <td>0.010625</td>\n",
       "      <td>0.426786</td>\n",
       "      <td>0.003237</td>\n",
       "      <td>0.003602</td>\n",
       "      <td>0.020091</td>\n",
       "    </tr>\n",
       "  </tbody>\n",
       "</table>\n",
       "</div>"
      ],
      "text/plain": [
       "       Filename   Barking   Howling    Crying   COSmoke  GlassBreaking  \\\n",
       "0  public_00001  0.015718  0.024436  0.072592  0.006425       0.405442   \n",
       "1  public_00002  0.069019  0.005622  0.061248  0.055104       0.008110   \n",
       "2  public_00003  0.843593  0.002444  0.003287  0.077840       0.058815   \n",
       "3  public_00004  0.038729  0.004414  0.054868  0.041895       0.116355   \n",
       "4  public_00005  0.535658  0.010625  0.426786  0.003237       0.003602   \n",
       "\n",
       "      Other  \n",
       "0  0.475387  \n",
       "1  0.800898  \n",
       "2  0.014021  \n",
       "3  0.743739  \n",
       "4  0.020091  "
      ]
     },
     "execution_count": 56,
     "metadata": {},
     "output_type": "execute_result"
    }
   ],
   "source": [
    "Y_test_all = pd.read_csv('vote_V12_排行榜0.976667.csv') #拿目前分數最高的\n",
    "Y_test_all.head(5)"
   ]
  },
  {
   "cell_type": "code",
   "execution_count": 57,
   "metadata": {},
   "outputs": [
    {
     "data": {
      "text/plain": [
       "array([[0., 0., 0., 0., 0., 1.],\n",
       "       [0., 0., 0., 0., 0., 1.],\n",
       "       [1., 0., 0., 0., 0., 0.],\n",
       "       [0., 0., 0., 0., 0., 1.],\n",
       "       [1., 0., 0., 0., 0., 0.]])"
      ]
     },
     "execution_count": 57,
     "metadata": {},
     "output_type": "execute_result"
    }
   ],
   "source": [
    "values = Y_test_all.iloc[:,1:].values.argmax(axis=1) #轉換成one hot格式\n",
    "n_values = np.max(values) + 1\n",
    "np.eye(n_values)[values][:5]"
   ]
  },
  {
   "cell_type": "code",
   "execution_count": 58,
   "metadata": {},
   "outputs": [
    {
     "data": {
      "text/html": [
       "<div>\n",
       "<style scoped>\n",
       "    .dataframe tbody tr th:only-of-type {\n",
       "        vertical-align: middle;\n",
       "    }\n",
       "\n",
       "    .dataframe tbody tr th {\n",
       "        vertical-align: top;\n",
       "    }\n",
       "\n",
       "    .dataframe thead th {\n",
       "        text-align: right;\n",
       "    }\n",
       "</style>\n",
       "<table border=\"1\" class=\"dataframe\">\n",
       "  <thead>\n",
       "    <tr style=\"text-align: right;\">\n",
       "      <th></th>\n",
       "      <th>Filename</th>\n",
       "      <th>Barking</th>\n",
       "      <th>Howling</th>\n",
       "      <th>Crying</th>\n",
       "      <th>COSmoke</th>\n",
       "      <th>GlassBreaking</th>\n",
       "      <th>Other</th>\n",
       "    </tr>\n",
       "  </thead>\n",
       "  <tbody>\n",
       "    <tr>\n",
       "      <th>0</th>\n",
       "      <td>public_00001</td>\n",
       "      <td>0.0</td>\n",
       "      <td>0.0</td>\n",
       "      <td>0.0</td>\n",
       "      <td>0.0</td>\n",
       "      <td>0.0</td>\n",
       "      <td>1.0</td>\n",
       "    </tr>\n",
       "    <tr>\n",
       "      <th>1</th>\n",
       "      <td>public_00002</td>\n",
       "      <td>0.0</td>\n",
       "      <td>0.0</td>\n",
       "      <td>0.0</td>\n",
       "      <td>0.0</td>\n",
       "      <td>0.0</td>\n",
       "      <td>1.0</td>\n",
       "    </tr>\n",
       "    <tr>\n",
       "      <th>2</th>\n",
       "      <td>public_00003</td>\n",
       "      <td>1.0</td>\n",
       "      <td>0.0</td>\n",
       "      <td>0.0</td>\n",
       "      <td>0.0</td>\n",
       "      <td>0.0</td>\n",
       "      <td>0.0</td>\n",
       "    </tr>\n",
       "    <tr>\n",
       "      <th>3</th>\n",
       "      <td>public_00004</td>\n",
       "      <td>0.0</td>\n",
       "      <td>0.0</td>\n",
       "      <td>0.0</td>\n",
       "      <td>0.0</td>\n",
       "      <td>0.0</td>\n",
       "      <td>1.0</td>\n",
       "    </tr>\n",
       "    <tr>\n",
       "      <th>4</th>\n",
       "      <td>public_00005</td>\n",
       "      <td>1.0</td>\n",
       "      <td>0.0</td>\n",
       "      <td>0.0</td>\n",
       "      <td>0.0</td>\n",
       "      <td>0.0</td>\n",
       "      <td>0.0</td>\n",
       "    </tr>\n",
       "    <tr>\n",
       "      <th>...</th>\n",
       "      <td>...</td>\n",
       "      <td>...</td>\n",
       "      <td>...</td>\n",
       "      <td>...</td>\n",
       "      <td>...</td>\n",
       "      <td>...</td>\n",
       "      <td>...</td>\n",
       "    </tr>\n",
       "    <tr>\n",
       "      <th>29995</th>\n",
       "      <td>private_19996</td>\n",
       "      <td>0.0</td>\n",
       "      <td>0.0</td>\n",
       "      <td>0.0</td>\n",
       "      <td>0.0</td>\n",
       "      <td>0.0</td>\n",
       "      <td>1.0</td>\n",
       "    </tr>\n",
       "    <tr>\n",
       "      <th>29996</th>\n",
       "      <td>private_19997</td>\n",
       "      <td>0.0</td>\n",
       "      <td>0.0</td>\n",
       "      <td>0.0</td>\n",
       "      <td>0.0</td>\n",
       "      <td>0.0</td>\n",
       "      <td>1.0</td>\n",
       "    </tr>\n",
       "    <tr>\n",
       "      <th>29997</th>\n",
       "      <td>private_19998</td>\n",
       "      <td>0.0</td>\n",
       "      <td>0.0</td>\n",
       "      <td>0.0</td>\n",
       "      <td>0.0</td>\n",
       "      <td>0.0</td>\n",
       "      <td>1.0</td>\n",
       "    </tr>\n",
       "    <tr>\n",
       "      <th>29998</th>\n",
       "      <td>private_19999</td>\n",
       "      <td>0.0</td>\n",
       "      <td>0.0</td>\n",
       "      <td>0.0</td>\n",
       "      <td>0.0</td>\n",
       "      <td>0.0</td>\n",
       "      <td>1.0</td>\n",
       "    </tr>\n",
       "    <tr>\n",
       "      <th>29999</th>\n",
       "      <td>private_20000</td>\n",
       "      <td>0.0</td>\n",
       "      <td>0.0</td>\n",
       "      <td>0.0</td>\n",
       "      <td>0.0</td>\n",
       "      <td>0.0</td>\n",
       "      <td>1.0</td>\n",
       "    </tr>\n",
       "  </tbody>\n",
       "</table>\n",
       "<p>30000 rows × 7 columns</p>\n",
       "</div>"
      ],
      "text/plain": [
       "            Filename  Barking  Howling  Crying  COSmoke  GlassBreaking  Other\n",
       "0       public_00001      0.0      0.0     0.0      0.0            0.0    1.0\n",
       "1       public_00002      0.0      0.0     0.0      0.0            0.0    1.0\n",
       "2       public_00003      1.0      0.0     0.0      0.0            0.0    0.0\n",
       "3       public_00004      0.0      0.0     0.0      0.0            0.0    1.0\n",
       "4       public_00005      1.0      0.0     0.0      0.0            0.0    0.0\n",
       "...              ...      ...      ...     ...      ...            ...    ...\n",
       "29995  private_19996      0.0      0.0     0.0      0.0            0.0    1.0\n",
       "29996  private_19997      0.0      0.0     0.0      0.0            0.0    1.0\n",
       "29997  private_19998      0.0      0.0     0.0      0.0            0.0    1.0\n",
       "29998  private_19999      0.0      0.0     0.0      0.0            0.0    1.0\n",
       "29999  private_20000      0.0      0.0     0.0      0.0            0.0    1.0\n",
       "\n",
       "[30000 rows x 7 columns]"
      ]
     },
     "execution_count": 58,
     "metadata": {},
     "output_type": "execute_result"
    }
   ],
   "source": [
    "Y_test_all.iloc[:,1:] = np.eye(n_values)[values] #轉換成df格式\n",
    "Y_test_all"
   ]
  },
  {
   "cell_type": "code",
   "execution_count": 59,
   "metadata": {},
   "outputs": [
    {
     "data": {
      "text/plain": [
       "(tensor([[0., 0., 0., 0., 0., 1.],\n",
       "         [0., 0., 0., 0., 0., 1.],\n",
       "         [1., 0., 0., 0., 0., 0.],\n",
       "         ...,\n",
       "         [0., 1., 0., 0., 0., 0.],\n",
       "         [0., 0., 1., 0., 0., 0.],\n",
       "         [0., 0., 1., 0., 0., 0.]]), torch.Size([10000, 6]))"
      ]
     },
     "execution_count": 59,
     "metadata": {},
     "output_type": "execute_result"
    }
   ],
   "source": [
    "Y_test_all = torch.FloatTensor(Y_test_all.iloc[:10000,1:].values) #轉換成tensor格式\n",
    "Y_test_all,Y_test_all.shape"
   ]
  },
  {
   "cell_type": "markdown",
   "metadata": {},
   "source": [
    "# help functions"
   ]
  },
  {
   "cell_type": "code",
   "execution_count": 60,
   "metadata": {},
   "outputs": [
    {
     "name": "stderr",
     "output_type": "stream",
     "text": [
      "WARNING:root:Load quantized model will cause accuracy drop.\n"
     ]
    }
   ],
   "source": [
    "def norm_mel(y, sr):\n",
    "    mel = librosa.feature.melspectrogram(y, sr = sr, n_mels = 80,hop_length=512)\n",
    "    mel = librosa.power_to_db(mel, ref=np.max)\n",
    "    return mel.T\n",
    "\n",
    "def plot(y, sr):\n",
    "    mel = norm_mel(y, sr)\n",
    "    fig, axs = plt.subplots(2, figsize=(10, 8))\n",
    "    axs[0].plot(y)\n",
    "    im = axs[1].imshow(np.rot90(mel), aspect='auto', interpolation='none')\n",
    "    fig.colorbar(mappable=im, shrink=0.65, orientation='horizontal', ax=axs[1])\n",
    "    print('mel shape:',mel.shape)\n",
    "    plt.show()\n",
    "\n",
    "# 靜音部分消除\n",
    "quantized_model = malaya_speech.vad.deep_model(model = 'vggvox-v2', quantized = True)\n",
    "p = Pipeline()\n",
    "\n",
    "pipeline_left = (\n",
    "    p.map(malaya_speech.generator.frames, frame_duration_ms = 30, sample_rate = 16000)\n",
    ")\n",
    "\n",
    "pipeline_right = (\n",
    "    pipeline_left.batching(5)\n",
    "    .foreach_map(quantized_model.predict)\n",
    "    .flatten()\n",
    ")\n",
    "\n",
    "pipeline_left.foreach_zip(pipeline_right).map(malaya_speech.combine.without_silent,\n",
    "                                             threshold_to_stop = 0.05)\n",
    "def remove_silent(y,sr,time_length=80000):\n",
    "    y =  p(y)['without_silent']\n",
    "    if len(y) > time_length:\n",
    "        y = y[0:0+time_length]\n",
    "    else:\n",
    "        y = np.pad(y, (0,time_length-len(y)))\n",
    "    return y\n",
    "\n",
    "def wav2featuresflow(y, sr):\n",
    "    y_without_silent = remove_silent(y,sr)\n",
    "    melspectrogram = np.rot90(norm_mel(y, sr))\n",
    "    return melspectrogram\n",
    "\n",
    "\n",
    "\n",
    "from sklearn.metrics import confusion_matrix,accuracy_score\n",
    "def plot_confusion_matrix(model,data_iter,map_dict=map_dict):\n",
    "    y_true = np.array([])\n",
    "    y_pred = np.array([])\n",
    "    for bx,by in tqdm(data_iter):\n",
    "        bx = bx.to(device)\n",
    "        by = by.to(device)\n",
    "        y_hat = model(bx)\n",
    "        try:\n",
    "            if len(y_true) == 0:\n",
    "                y_true = by.argmax(axis=1).detach().cpu().numpy()\n",
    "                y_pred = y_hat.argmax(axis=1).detach().cpu().numpy()\n",
    "            else:\n",
    "                y_true = np.hstack((y_true,by.argmax(axis=1).detach().cpu().numpy()))\n",
    "                y_pred = np.hstack((y_pred,y_hat.argmax(axis=1).detach().cpu().numpy()))\n",
    "        except:\n",
    "            pass\n",
    "    cm = pd.DataFrame(confusion_matrix(y_pred,y_true))\n",
    "    cm.columns = list(map_dict.values())\n",
    "    acc = accuracy_score(y_pred,y_true)\n",
    "    return cm,acc\n",
    "\n",
    "def 找超參數(search_iteration=30,max_epochs=30):\n",
    "    import optuna\n",
    "    sampler = optuna.samplers.CmaEsSampler()\n",
    "    study = optuna.create_study(sampler=sampler,direction='maximize')\n",
    "    for i in tqdm(range(search_iteration)):\n",
    "        trial = study.ask()\n",
    "        lr = trial.suggest_uniform('lr',1e-5,1e-2)\n",
    "        valid_size = trial.suggest_uniform('valid_size',0.1,0.5)\n",
    "        batch_size = trial.suggest_int(\"batch_size\", 16, 128)\n",
    "        X_train, X_valid , y_train, y_valid = train_test_split(X_train_all, Y_train_all,\n",
    "                                                               test_size = valid_size, \n",
    "                                                               random_state = 1,\n",
    "                                                               stratify=Y_train_all)\n",
    "        trainset = TensorDataset(torch.FloatTensor(X_train.to(torch.float32)),torch.FloatTensor(y_train))\n",
    "        vaildset = TensorDataset(torch.FloatTensor(X_valid.to(torch.float32)),torch.FloatTensor(y_valid))\n",
    "        train_iter = DataLoader(trainset,batch_size=batch_size,num_workers=4)\n",
    "        vaild_iter = DataLoader(vaildset,batch_size=batch_size,num_workers=4)\n",
    "        model = torch.hub.load('moskomule/senet.pytorch','se_resnet20',num_classes=6)\n",
    "        model.conv1 = nn.Conv2d(1, 16, kernel_size=(3, 3), stride=(1, 1), padding=(1, 1), bias=False)\n",
    "        device = 'cuda:0'\n",
    "        model = model.to(device)\n",
    "        model = torch.nn.DataParallel(model, device_ids=[0, 1, 2 ,3])\n",
    "        optimizer = Adam(model.parameters(),lr=lr)\n",
    "        loss_fn = nn.BCEWithLogitsLoss()\n",
    "        model = train(model,train_iter,vaild_iter,optimizer,loss_fn,max_epochs=max_epochs,log_interval=1,device=device)\n",
    "        model.eval()\n",
    "        cm,acc = plot_confusion_matrix(model.to(device),vaild_iter)\n",
    "        study.tell(trial,acc)\n",
    "        print(study.best_params,study.best_value)\n",
    "    return study.best_params,study.best_value"
   ]
  },
  {
   "cell_type": "markdown",
   "metadata": {},
   "source": [
    "# train valid split"
   ]
  },
  {
   "cell_type": "code",
   "execution_count": 61,
   "metadata": {},
   "outputs": [
    {
     "name": "stdout",
     "output_type": "stream",
     "text": [
      "torch.Size([959, 1, 80, 157])\n",
      "torch.Size([240, 1, 80, 157])\n",
      "0    160\n",
      "1    160\n",
      "2    160\n",
      "3    160\n",
      "5    160\n",
      "4    159\n",
      "dtype: int64\n",
      "0    40\n",
      "1    40\n",
      "2    40\n",
      "3    40\n",
      "4    40\n",
      "5    40\n",
      "dtype: int64\n"
     ]
    },
    {
     "data": {
      "text/plain": [
       "'\\n# 訓練驗證切分\\na = X_test_all\\nb = Y_test_all\\n\\nX_valid = X_train_all #1199驗證\\ny_valid = Y_train_all #1199驗證\\n\\nX_train = a #10000訓練\\ny_train = b #10000訓練\\n\\nuse_idx = np.random.choice([*range(len(X_train))], 9000, replace=False) #訓練集可能有錯所以抽9000筆\\n\\nX_train = X_train[use_idx]\\ny_train = y_train[use_idx]\\n\\nprint(X_train.shape)\\nprint(X_valid.shape)\\nprint(pd.DataFrame(y_train.argmax(axis=1)).value_counts())\\nprint(pd.DataFrame(y_valid.argmax(axis=1)).value_counts())\\n'"
      ]
     },
     "execution_count": 61,
     "metadata": {},
     "output_type": "execute_result"
    }
   ],
   "source": [
    "from sklearn.model_selection import train_test_split\n",
    "\n",
    "X_train, X_valid, y_train, y_valid = train_test_split(X_train_all, Y_train_all, \n",
    "                                                      test_size=0.2, \n",
    "                                                      random_state=seed,\n",
    "                                                      stratify=Y_train_all)\n",
    "print(X_train.shape)\n",
    "print(X_valid.shape)\n",
    "print(pd.DataFrame(y_train.argmax(axis=1)).value_counts())\n",
    "print(pd.DataFrame(y_valid.argmax(axis=1)).value_counts())\n",
    "\n",
    "'''\n",
    "# 訓練驗證切分\n",
    "a = X_test_all\n",
    "b = Y_test_all\n",
    "\n",
    "X_valid = X_train_all #1199驗證\n",
    "y_valid = Y_train_all #1199驗證\n",
    "\n",
    "X_train = a #10000訓練\n",
    "y_train = b #10000訓練\n",
    "\n",
    "use_idx = np.random.choice([*range(len(X_train))], 9000, replace=False) #訓練集可能有錯所以抽9000筆\n",
    "\n",
    "X_train = X_train[use_idx]\n",
    "y_train = y_train[use_idx]\n",
    "\n",
    "print(X_train.shape)\n",
    "print(X_valid.shape)\n",
    "print(pd.DataFrame(y_train.argmax(axis=1)).value_counts())\n",
    "print(pd.DataFrame(y_valid.argmax(axis=1)).value_counts())\n",
    "'''"
   ]
  },
  {
   "cell_type": "markdown",
   "metadata": {},
   "source": [
    "#  create pytorch dataloader and save"
   ]
  },
  {
   "cell_type": "code",
   "execution_count": 62,
   "metadata": {},
   "outputs": [
    {
     "name": "stdout",
     "output_type": "stream",
     "text": [
      "torch.Size([32, 1, 80, 157]) cpu\n",
      "torch.Size([32, 6]) cpu\n"
     ]
    }
   ],
   "source": [
    "from torch.utils.data import TensorDataset,DataLoader\n",
    "trainset = TensorDataset(torch.FloatTensor(X_train.to(torch.float32)),torch.FloatTensor(y_train))\n",
    "vaildset = TensorDataset(torch.FloatTensor(X_valid.to(torch.float32)),torch.FloatTensor(y_valid))\n",
    "train_iter = DataLoader(trainset,batch_size=32,num_workers=4)\n",
    "vaild_iter = DataLoader(vaildset,batch_size=32,num_workers=4)\n",
    "for bx,by in train_iter:\n",
    "    print(bx.shape,bx.device) # batch,channel,freq,time\n",
    "    print(by.shape,by.device) # batch,n_class\n",
    "    break"
   ]
  },
  {
   "cell_type": "markdown",
   "metadata": {},
   "source": [
    "# define model"
   ]
  },
  {
   "cell_type": "code",
   "execution_count": 63,
   "metadata": {},
   "outputs": [
    {
     "name": "stderr",
     "output_type": "stream",
     "text": [
      "Using cache found in /root/.cache/torch/hub/moskomule_senet.pytorch_master\n"
     ]
    },
    {
     "name": "stdout",
     "output_type": "stream",
     "text": [
      "CifarSEResNet(\n",
      "  (conv1): Conv2d(1, 16, kernel_size=(3, 3), stride=(1, 1), padding=(1, 1), bias=False)\n",
      "  (bn1): BatchNorm2d(16, eps=1e-05, momentum=0.1, affine=True, track_running_stats=True)\n",
      "  (relu): ReLU(inplace=True)\n",
      "  (layer1): Sequential(\n",
      "    (0): CifarSEBasicBlock(\n",
      "      (conv1): Conv2d(16, 16, kernel_size=(3, 3), stride=(1, 1), padding=(1, 1), bias=False)\n",
      "      (bn1): BatchNorm2d(16, eps=1e-05, momentum=0.1, affine=True, track_running_stats=True)\n",
      "      (relu): ReLU(inplace=True)\n",
      "      (conv2): Conv2d(16, 16, kernel_size=(3, 3), stride=(1, 1), padding=(1, 1), bias=False)\n",
      "      (bn2): BatchNorm2d(16, eps=1e-05, momentum=0.1, affine=True, track_running_stats=True)\n",
      "      (se): SELayer(\n",
      "        (avg_pool): AdaptiveAvgPool2d(output_size=1)\n",
      "        (fc): Sequential(\n",
      "          (0): Linear(in_features=16, out_features=1, bias=False)\n",
      "          (1): ReLU(inplace=True)\n",
      "          (2): Linear(in_features=1, out_features=16, bias=False)\n",
      "          (3): Sigmoid()\n",
      "        )\n",
      "      )\n",
      "    )\n",
      "    (1): CifarSEBasicBlock(\n",
      "      (conv1): Conv2d(16, 16, kernel_size=(3, 3), stride=(1, 1), padding=(1, 1), bias=False)\n",
      "      (bn1): BatchNorm2d(16, eps=1e-05, momentum=0.1, affine=True, track_running_stats=True)\n",
      "      (relu): ReLU(inplace=True)\n",
      "      (conv2): Conv2d(16, 16, kernel_size=(3, 3), stride=(1, 1), padding=(1, 1), bias=False)\n",
      "      (bn2): BatchNorm2d(16, eps=1e-05, momentum=0.1, affine=True, track_running_stats=True)\n",
      "      (se): SELayer(\n",
      "        (avg_pool): AdaptiveAvgPool2d(output_size=1)\n",
      "        (fc): Sequential(\n",
      "          (0): Linear(in_features=16, out_features=1, bias=False)\n",
      "          (1): ReLU(inplace=True)\n",
      "          (2): Linear(in_features=1, out_features=16, bias=False)\n",
      "          (3): Sigmoid()\n",
      "        )\n",
      "      )\n",
      "    )\n",
      "    (2): CifarSEBasicBlock(\n",
      "      (conv1): Conv2d(16, 16, kernel_size=(3, 3), stride=(1, 1), padding=(1, 1), bias=False)\n",
      "      (bn1): BatchNorm2d(16, eps=1e-05, momentum=0.1, affine=True, track_running_stats=True)\n",
      "      (relu): ReLU(inplace=True)\n",
      "      (conv2): Conv2d(16, 16, kernel_size=(3, 3), stride=(1, 1), padding=(1, 1), bias=False)\n",
      "      (bn2): BatchNorm2d(16, eps=1e-05, momentum=0.1, affine=True, track_running_stats=True)\n",
      "      (se): SELayer(\n",
      "        (avg_pool): AdaptiveAvgPool2d(output_size=1)\n",
      "        (fc): Sequential(\n",
      "          (0): Linear(in_features=16, out_features=1, bias=False)\n",
      "          (1): ReLU(inplace=True)\n",
      "          (2): Linear(in_features=1, out_features=16, bias=False)\n",
      "          (3): Sigmoid()\n",
      "        )\n",
      "      )\n",
      "    )\n",
      "  )\n",
      "  (layer2): Sequential(\n",
      "    (0): CifarSEBasicBlock(\n",
      "      (conv1): Conv2d(16, 32, kernel_size=(3, 3), stride=(2, 2), padding=(1, 1), bias=False)\n",
      "      (bn1): BatchNorm2d(32, eps=1e-05, momentum=0.1, affine=True, track_running_stats=True)\n",
      "      (relu): ReLU(inplace=True)\n",
      "      (conv2): Conv2d(32, 32, kernel_size=(3, 3), stride=(1, 1), padding=(1, 1), bias=False)\n",
      "      (bn2): BatchNorm2d(32, eps=1e-05, momentum=0.1, affine=True, track_running_stats=True)\n",
      "      (se): SELayer(\n",
      "        (avg_pool): AdaptiveAvgPool2d(output_size=1)\n",
      "        (fc): Sequential(\n",
      "          (0): Linear(in_features=32, out_features=2, bias=False)\n",
      "          (1): ReLU(inplace=True)\n",
      "          (2): Linear(in_features=2, out_features=32, bias=False)\n",
      "          (3): Sigmoid()\n",
      "        )\n",
      "      )\n",
      "      (downsample): Sequential(\n",
      "        (0): Conv2d(16, 32, kernel_size=(1, 1), stride=(2, 2), bias=False)\n",
      "        (1): BatchNorm2d(32, eps=1e-05, momentum=0.1, affine=True, track_running_stats=True)\n",
      "      )\n",
      "    )\n",
      "    (1): CifarSEBasicBlock(\n",
      "      (conv1): Conv2d(32, 32, kernel_size=(3, 3), stride=(1, 1), padding=(1, 1), bias=False)\n",
      "      (bn1): BatchNorm2d(32, eps=1e-05, momentum=0.1, affine=True, track_running_stats=True)\n",
      "      (relu): ReLU(inplace=True)\n",
      "      (conv2): Conv2d(32, 32, kernel_size=(3, 3), stride=(1, 1), padding=(1, 1), bias=False)\n",
      "      (bn2): BatchNorm2d(32, eps=1e-05, momentum=0.1, affine=True, track_running_stats=True)\n",
      "      (se): SELayer(\n",
      "        (avg_pool): AdaptiveAvgPool2d(output_size=1)\n",
      "        (fc): Sequential(\n",
      "          (0): Linear(in_features=32, out_features=2, bias=False)\n",
      "          (1): ReLU(inplace=True)\n",
      "          (2): Linear(in_features=2, out_features=32, bias=False)\n",
      "          (3): Sigmoid()\n",
      "        )\n",
      "      )\n",
      "    )\n",
      "    (2): CifarSEBasicBlock(\n",
      "      (conv1): Conv2d(32, 32, kernel_size=(3, 3), stride=(1, 1), padding=(1, 1), bias=False)\n",
      "      (bn1): BatchNorm2d(32, eps=1e-05, momentum=0.1, affine=True, track_running_stats=True)\n",
      "      (relu): ReLU(inplace=True)\n",
      "      (conv2): Conv2d(32, 32, kernel_size=(3, 3), stride=(1, 1), padding=(1, 1), bias=False)\n",
      "      (bn2): BatchNorm2d(32, eps=1e-05, momentum=0.1, affine=True, track_running_stats=True)\n",
      "      (se): SELayer(\n",
      "        (avg_pool): AdaptiveAvgPool2d(output_size=1)\n",
      "        (fc): Sequential(\n",
      "          (0): Linear(in_features=32, out_features=2, bias=False)\n",
      "          (1): ReLU(inplace=True)\n",
      "          (2): Linear(in_features=2, out_features=32, bias=False)\n",
      "          (3): Sigmoid()\n",
      "        )\n",
      "      )\n",
      "    )\n",
      "  )\n",
      "  (layer3): Sequential(\n",
      "    (0): CifarSEBasicBlock(\n",
      "      (conv1): Conv2d(32, 64, kernel_size=(3, 3), stride=(2, 2), padding=(1, 1), bias=False)\n",
      "      (bn1): BatchNorm2d(64, eps=1e-05, momentum=0.1, affine=True, track_running_stats=True)\n",
      "      (relu): ReLU(inplace=True)\n",
      "      (conv2): Conv2d(64, 64, kernel_size=(3, 3), stride=(1, 1), padding=(1, 1), bias=False)\n",
      "      (bn2): BatchNorm2d(64, eps=1e-05, momentum=0.1, affine=True, track_running_stats=True)\n",
      "      (se): SELayer(\n",
      "        (avg_pool): AdaptiveAvgPool2d(output_size=1)\n",
      "        (fc): Sequential(\n",
      "          (0): Linear(in_features=64, out_features=4, bias=False)\n",
      "          (1): ReLU(inplace=True)\n",
      "          (2): Linear(in_features=4, out_features=64, bias=False)\n",
      "          (3): Sigmoid()\n",
      "        )\n",
      "      )\n",
      "      (downsample): Sequential(\n",
      "        (0): Conv2d(32, 64, kernel_size=(1, 1), stride=(2, 2), bias=False)\n",
      "        (1): BatchNorm2d(64, eps=1e-05, momentum=0.1, affine=True, track_running_stats=True)\n",
      "      )\n",
      "    )\n",
      "    (1): CifarSEBasicBlock(\n",
      "      (conv1): Conv2d(64, 64, kernel_size=(3, 3), stride=(1, 1), padding=(1, 1), bias=False)\n",
      "      (bn1): BatchNorm2d(64, eps=1e-05, momentum=0.1, affine=True, track_running_stats=True)\n",
      "      (relu): ReLU(inplace=True)\n",
      "      (conv2): Conv2d(64, 64, kernel_size=(3, 3), stride=(1, 1), padding=(1, 1), bias=False)\n",
      "      (bn2): BatchNorm2d(64, eps=1e-05, momentum=0.1, affine=True, track_running_stats=True)\n",
      "      (se): SELayer(\n",
      "        (avg_pool): AdaptiveAvgPool2d(output_size=1)\n",
      "        (fc): Sequential(\n",
      "          (0): Linear(in_features=64, out_features=4, bias=False)\n",
      "          (1): ReLU(inplace=True)\n",
      "          (2): Linear(in_features=4, out_features=64, bias=False)\n",
      "          (3): Sigmoid()\n",
      "        )\n",
      "      )\n",
      "    )\n",
      "    (2): CifarSEBasicBlock(\n",
      "      (conv1): Conv2d(64, 64, kernel_size=(3, 3), stride=(1, 1), padding=(1, 1), bias=False)\n",
      "      (bn1): BatchNorm2d(64, eps=1e-05, momentum=0.1, affine=True, track_running_stats=True)\n",
      "      (relu): ReLU(inplace=True)\n",
      "      (conv2): Conv2d(64, 64, kernel_size=(3, 3), stride=(1, 1), padding=(1, 1), bias=False)\n",
      "      (bn2): BatchNorm2d(64, eps=1e-05, momentum=0.1, affine=True, track_running_stats=True)\n",
      "      (se): SELayer(\n",
      "        (avg_pool): AdaptiveAvgPool2d(output_size=1)\n",
      "        (fc): Sequential(\n",
      "          (0): Linear(in_features=64, out_features=4, bias=False)\n",
      "          (1): ReLU(inplace=True)\n",
      "          (2): Linear(in_features=4, out_features=64, bias=False)\n",
      "          (3): Sigmoid()\n",
      "        )\n",
      "      )\n",
      "    )\n",
      "  )\n",
      "  (avgpool): AdaptiveAvgPool2d(output_size=1)\n",
      "  (fc): Sequential(\n",
      "    (0): Linear(in_features=64, out_features=64, bias=True)\n",
      "    (1): LeakyReLU(negative_slope=0.01)\n",
      "    (2): Dropout(p=0.5, inplace=False)\n",
      "    (3): Linear(in_features=64, out_features=6, bias=True)\n",
      "  )\n",
      ")\n",
      "Conv2d(1, 16, kernel_size=(3, 3), stride=(1, 1), padding=(1, 1), bias=False) 初始化\n",
      "Conv2d(16, 16, kernel_size=(3, 3), stride=(1, 1), padding=(1, 1), bias=False) 初始化\n",
      "Conv2d(16, 16, kernel_size=(3, 3), stride=(1, 1), padding=(1, 1), bias=False) 初始化\n",
      "Linear(in_features=16, out_features=1, bias=False) 初始化\n",
      "Linear(in_features=1, out_features=16, bias=False) 初始化\n",
      "Conv2d(16, 16, kernel_size=(3, 3), stride=(1, 1), padding=(1, 1), bias=False) 初始化\n",
      "Conv2d(16, 16, kernel_size=(3, 3), stride=(1, 1), padding=(1, 1), bias=False) 初始化\n",
      "Linear(in_features=16, out_features=1, bias=False) 初始化\n",
      "Linear(in_features=1, out_features=16, bias=False) 初始化\n",
      "Conv2d(16, 16, kernel_size=(3, 3), stride=(1, 1), padding=(1, 1), bias=False) 初始化\n",
      "Conv2d(16, 16, kernel_size=(3, 3), stride=(1, 1), padding=(1, 1), bias=False) 初始化\n",
      "Linear(in_features=16, out_features=1, bias=False) 初始化\n",
      "Linear(in_features=1, out_features=16, bias=False) 初始化\n",
      "Conv2d(16, 32, kernel_size=(3, 3), stride=(2, 2), padding=(1, 1), bias=False) 初始化\n",
      "Conv2d(32, 32, kernel_size=(3, 3), stride=(1, 1), padding=(1, 1), bias=False) 初始化\n",
      "Linear(in_features=32, out_features=2, bias=False) 初始化\n",
      "Linear(in_features=2, out_features=32, bias=False) 初始化\n",
      "Conv2d(16, 32, kernel_size=(1, 1), stride=(2, 2), bias=False) 初始化\n",
      "Conv2d(32, 32, kernel_size=(3, 3), stride=(1, 1), padding=(1, 1), bias=False) 初始化\n",
      "Conv2d(32, 32, kernel_size=(3, 3), stride=(1, 1), padding=(1, 1), bias=False) 初始化\n",
      "Linear(in_features=32, out_features=2, bias=False) 初始化\n",
      "Linear(in_features=2, out_features=32, bias=False) 初始化\n",
      "Conv2d(32, 32, kernel_size=(3, 3), stride=(1, 1), padding=(1, 1), bias=False) 初始化\n",
      "Conv2d(32, 32, kernel_size=(3, 3), stride=(1, 1), padding=(1, 1), bias=False) 初始化\n",
      "Linear(in_features=32, out_features=2, bias=False) 初始化\n",
      "Linear(in_features=2, out_features=32, bias=False) 初始化\n",
      "Conv2d(32, 64, kernel_size=(3, 3), stride=(2, 2), padding=(1, 1), bias=False) 初始化\n",
      "Conv2d(64, 64, kernel_size=(3, 3), stride=(1, 1), padding=(1, 1), bias=False) 初始化\n",
      "Linear(in_features=64, out_features=4, bias=False) 初始化\n",
      "Linear(in_features=4, out_features=64, bias=False) 初始化\n",
      "Conv2d(32, 64, kernel_size=(1, 1), stride=(2, 2), bias=False) 初始化\n",
      "Conv2d(64, 64, kernel_size=(3, 3), stride=(1, 1), padding=(1, 1), bias=False) 初始化\n",
      "Conv2d(64, 64, kernel_size=(3, 3), stride=(1, 1), padding=(1, 1), bias=False) 初始化\n",
      "Linear(in_features=64, out_features=4, bias=False) 初始化\n",
      "Linear(in_features=4, out_features=64, bias=False) 初始化\n",
      "Conv2d(64, 64, kernel_size=(3, 3), stride=(1, 1), padding=(1, 1), bias=False) 初始化\n",
      "Conv2d(64, 64, kernel_size=(3, 3), stride=(1, 1), padding=(1, 1), bias=False) 初始化\n",
      "Linear(in_features=64, out_features=4, bias=False) 初始化\n",
      "Linear(in_features=4, out_features=64, bias=False) 初始化\n",
      "Linear(in_features=64, out_features=64, bias=True) 初始化\n",
      "Linear(in_features=64, out_features=6, bias=True) 初始化\n"
     ]
    },
    {
     "name": "stdout",
     "output_type": "stream",
     "text": [
      "torch.Size([32, 1, 80, 157]) torch.Size([32, 6])\n"
     ]
    },
    {
     "data": {
      "text/plain": [
       "torch.Size([32, 6])"
      ]
     },
     "execution_count": 63,
     "metadata": {},
     "output_type": "execute_result"
    }
   ],
   "source": [
    "import torch.hub\n",
    "model = torch.hub.load('moskomule/senet.pytorch','se_resnet20',num_classes=64)\n",
    "#改模型\n",
    "model.conv1 = nn.Conv2d(1, 16, kernel_size=(3, 3), stride=(1, 1), padding=(1, 1), bias=False)\n",
    "model.fc = nn.Sequential(\n",
    "    nn.Linear(64,64),\n",
    "    nn.LeakyReLU(),\n",
    "    nn.Dropout(0.5),#三個臭皮匠勝過一個諸葛亮\n",
    "    nn.Linear(64,6))\n",
    "print(model)\n",
    "#初始化\n",
    "for m in model.modules():\n",
    "    if isinstance(m, (nn.Conv2d, nn.Linear)):\n",
    "        print(m,'初始化')\n",
    "        nn.init.xavier_uniform_(m.weight)\n",
    "# forward test\n",
    "y_hat = model(bx)\n",
    "print(bx.shape,y_hat.shape)\n",
    "y_hat.shape"
   ]
  },
  {
   "cell_type": "markdown",
   "metadata": {},
   "source": [
    "# def train loop"
   ]
  },
  {
   "cell_type": "code",
   "execution_count": 64,
   "metadata": {},
   "outputs": [],
   "source": [
    "from sklearn.metrics import accuracy_score\n",
    "\n",
    "def train_step(model,train_iter,loss_fn,optimizer,device):\n",
    "        model.train()\n",
    "        total_loss = 0\n",
    "        total_auc = 0\n",
    "        for t,(x,y) in enumerate(train_iter):\n",
    "            x,y = x.to(device),y.to(device)\n",
    "            y_hat = model(x)\n",
    "            total_auc += calculate_auc_score(model,x,y)\n",
    "            loss = loss_fn(y_hat,y)\n",
    "            loss.backward()\n",
    "            optimizer.step()\n",
    "            optimizer.zero_grad()\n",
    "            total_loss += loss.item()\n",
    "        return total_loss/(t+1) ,total_auc/(t+1)\n",
    "\n",
    "def valid_step(model,vaild_iter,loss_fn,optimizer,device):\n",
    "    model.eval()\n",
    "    total_loss = 0\n",
    "    total_auc = 0\n",
    "    for t,(x,y) in enumerate(vaild_iter):\n",
    "        x,y = x.to(device),y.to(device)\n",
    "        y_hat = model(x)\n",
    "        total_auc += calculate_auc_score(model,x,y)\n",
    "        loss = loss_fn(y_hat,y)\n",
    "        total_loss += loss.item()\n",
    "    return total_loss/(t+1) ,total_auc/(t+1)\n",
    "\n",
    "def softmax2onehot(probs):\n",
    "  probs = torch.FloatTensor(probs)\n",
    "  max_idx = torch.argmax(probs, 1, keepdim=True)\n",
    "  one_hot = torch.FloatTensor(probs.shape)\n",
    "  one_hot.zero_()\n",
    "  one_hot.scatter_(1, max_idx, 1)\n",
    "  return one_hot.detach().cpu().numpy().astype(int)\n",
    "\n",
    "# calculate roc_auc_score\n",
    "def calculate_auc_score(model,x,y):\n",
    "    y_hat = model(x).argmax(dim=1).detach().cpu().numpy()\n",
    "    y = y.argmax(dim=1).detach().cpu().numpy()\n",
    "    return accuracy_score(y,y_hat)\n",
    "\n",
    "\n",
    "# train_loop\n",
    "def train(model,train_iter,vaild_iter,optimizer,loss_fn,max_epochs=300,log_interval=10,device=None):\n",
    "        history = {\n",
    "            'train_loss':[],\n",
    "            'valid_loss':[],\n",
    "            'train_auc':[],\n",
    "            'valid_auc':[],\n",
    "            }\n",
    "        no_improve_count = 0\n",
    "        current_auc = -np.inf\n",
    "        best_model = None\n",
    "        for i in tqdm(range(max_epochs)):\n",
    "            # step\n",
    "            train_loss,train_auc = train_step(model,train_iter,loss_fn,optimizer,device)\n",
    "            valid_loss,valid_auc = valid_step(model,vaild_iter,loss_fn,optimizer,device)\n",
    "            # record history\n",
    "            history['train_loss'].append(train_loss)\n",
    "            history['valid_loss'].append(valid_loss)\n",
    "            history['train_auc'].append(train_auc)\n",
    "            history['valid_auc'].append(valid_auc)\n",
    "            # print info\n",
    "            if i % log_interval == 0:\n",
    "                print(\"epoch:{} train_loss:{:.4f} valid_loss:{:.4f} train_auc:{:.4f} valid_auc:{:.4f}\".format(\n",
    "                    i,history['train_loss'][-1],history['valid_loss'][-1],history['train_auc'][-1],history['valid_auc'][-1])\n",
    "                    )\n",
    "            # record the best model\n",
    "            if history['valid_auc'][-1] >= current_auc:\n",
    "                best_model = deepcopy(model.eval())\n",
    "                current_auc = history['valid_auc'][-1]\n",
    "                print('有進步')\n",
    "                no_improve_count -= 1\n",
    "            else:\n",
    "                no_improve_count += 1\n",
    "                print('沒進步')\n",
    "                print(f'沒進步總計:{no_improve_count}')\n",
    "                if no_improve_count >= 10:\n",
    "                    print('10次沒進步,提早結束訓練')\n",
    "                    break\n",
    "            gc.collect()\n",
    "        \n",
    "        # copy best model\n",
    "        model = deepcopy(best_model.eval())\n",
    "        \n",
    "        # plot loss\n",
    "        plt.plot(history['train_loss'],label='train_loss')\n",
    "        plt.plot(history['valid_loss'],label='valid_loss')\n",
    "        plt.legend()\n",
    "        plt.savefig('loss.jpg')\n",
    "        plt.show()\n",
    "        \n",
    "         # plot auc\n",
    "        plt.plot(history['train_auc'],label='train_auc')\n",
    "        plt.plot(history['valid_auc'],label='valid_auc')\n",
    "        plt.legend()\n",
    "        plt.savefig('auc.jpg')\n",
    "        plt.show()\n",
    "        \n",
    "        \n",
    "        return model"
   ]
  },
  {
   "cell_type": "code",
   "execution_count": 65,
   "metadata": {},
   "outputs": [],
   "source": [
    "device = 'cuda:0'\n",
    "model = model.to(device)\n",
    "model = torch.nn.DataParallel(model, device_ids=[0, 1, 2 ,3])"
   ]
  },
  {
   "cell_type": "code",
   "execution_count": 66,
   "metadata": {},
   "outputs": [],
   "source": [
    "loss_fn = nn.BCEWithLogitsLoss()"
   ]
  },
  {
   "cell_type": "code",
   "execution_count": 67,
   "metadata": {},
   "outputs": [
    {
     "name": "stderr",
     "output_type": "stream",
     "text": [
      "  1%|          | 1/100 [00:05<09:08,  5.54s/it]"
     ]
    },
    {
     "name": "stdout",
     "output_type": "stream",
     "text": [
      "epoch:0 train_loss:0.5113 valid_loss:0.3651 train_auc:0.2922 valid_auc:0.6328\n",
      "有進步\n"
     ]
    },
    {
     "name": "stderr",
     "output_type": "stream",
     "text": [
      "\r",
      "  2%|▏         | 2/100 [00:10<08:53,  5.45s/it]"
     ]
    },
    {
     "name": "stdout",
     "output_type": "stream",
     "text": [
      "epoch:1 train_loss:0.3956 valid_loss:0.3256 train_auc:0.4599 valid_auc:0.5156\n",
      "沒進步\n",
      "沒進步總計:0\n"
     ]
    },
    {
     "name": "stderr",
     "output_type": "stream",
     "text": [
      "\r",
      "  3%|▎         | 3/100 [00:16<08:46,  5.43s/it]"
     ]
    },
    {
     "name": "stdout",
     "output_type": "stream",
     "text": [
      "epoch:2 train_loss:0.3463 valid_loss:0.2346 train_auc:0.5184 valid_auc:0.6875\n",
      "有進步\n"
     ]
    },
    {
     "name": "stderr",
     "output_type": "stream",
     "text": [
      "\r",
      "  4%|▍         | 4/100 [00:21<08:38,  5.40s/it]"
     ]
    },
    {
     "name": "stdout",
     "output_type": "stream",
     "text": [
      "epoch:3 train_loss:0.3079 valid_loss:0.2095 train_auc:0.6257 valid_auc:0.8477\n",
      "有進步\n"
     ]
    },
    {
     "name": "stderr",
     "output_type": "stream",
     "text": [
      "\r",
      "  5%|▌         | 5/100 [00:27<08:39,  5.47s/it]"
     ]
    },
    {
     "name": "stdout",
     "output_type": "stream",
     "text": [
      "epoch:4 train_loss:0.2801 valid_loss:0.1767 train_auc:0.6684 valid_auc:0.8359\n",
      "沒進步\n",
      "沒進步總計:-1\n"
     ]
    },
    {
     "name": "stderr",
     "output_type": "stream",
     "text": [
      "\r",
      "  6%|▌         | 6/100 [00:32<08:34,  5.47s/it]"
     ]
    },
    {
     "name": "stdout",
     "output_type": "stream",
     "text": [
      "epoch:5 train_loss:0.2600 valid_loss:0.1431 train_auc:0.7373 valid_auc:0.8633\n",
      "有進步\n"
     ]
    },
    {
     "name": "stderr",
     "output_type": "stream",
     "text": [
      "\r",
      "  7%|▋         | 7/100 [00:38<08:29,  5.48s/it]"
     ]
    },
    {
     "name": "stdout",
     "output_type": "stream",
     "text": [
      "epoch:6 train_loss:0.2368 valid_loss:0.1418 train_auc:0.7561 valid_auc:0.8242\n",
      "沒進步\n",
      "沒進步總計:-1\n"
     ]
    },
    {
     "name": "stderr",
     "output_type": "stream",
     "text": [
      "\r",
      "  8%|▊         | 8/100 [00:43<08:24,  5.49s/it]"
     ]
    },
    {
     "name": "stdout",
     "output_type": "stream",
     "text": [
      "epoch:7 train_loss:0.2128 valid_loss:0.1490 train_auc:0.7707 valid_auc:0.8672\n",
      "有進步\n"
     ]
    },
    {
     "name": "stderr",
     "output_type": "stream",
     "text": [
      "\r",
      "  9%|▉         | 9/100 [00:49<08:22,  5.52s/it]"
     ]
    },
    {
     "name": "stdout",
     "output_type": "stream",
     "text": [
      "epoch:8 train_loss:0.2103 valid_loss:0.1121 train_auc:0.8154 valid_auc:0.8672\n",
      "有進步\n"
     ]
    },
    {
     "name": "stderr",
     "output_type": "stream",
     "text": [
      "\r",
      " 10%|█         | 10/100 [00:54<08:13,  5.49s/it]"
     ]
    },
    {
     "name": "stdout",
     "output_type": "stream",
     "text": [
      "epoch:9 train_loss:0.1887 valid_loss:0.1593 train_auc:0.8217 valid_auc:0.8125\n",
      "沒進步\n",
      "沒進步總計:-2\n"
     ]
    },
    {
     "name": "stderr",
     "output_type": "stream",
     "text": [
      "\r",
      " 11%|█         | 11/100 [01:00<08:07,  5.48s/it]"
     ]
    },
    {
     "name": "stdout",
     "output_type": "stream",
     "text": [
      "epoch:10 train_loss:0.1751 valid_loss:0.1210 train_auc:0.8218 valid_auc:0.8633\n",
      "沒進步\n",
      "沒進步總計:-1\n"
     ]
    },
    {
     "name": "stderr",
     "output_type": "stream",
     "text": [
      "\r",
      " 12%|█▏        | 12/100 [01:05<07:59,  5.45s/it]"
     ]
    },
    {
     "name": "stdout",
     "output_type": "stream",
     "text": [
      "epoch:11 train_loss:0.1666 valid_loss:0.1444 train_auc:0.8468 valid_auc:0.8398\n",
      "沒進步\n",
      "沒進步總計:0\n"
     ]
    },
    {
     "name": "stderr",
     "output_type": "stream",
     "text": [
      "\r",
      " 13%|█▎        | 13/100 [01:11<07:53,  5.44s/it]"
     ]
    },
    {
     "name": "stdout",
     "output_type": "stream",
     "text": [
      "epoch:12 train_loss:0.1531 valid_loss:0.0884 train_auc:0.8572 valid_auc:0.9062\n",
      "有進步\n"
     ]
    },
    {
     "name": "stderr",
     "output_type": "stream",
     "text": [
      "\r",
      " 14%|█▍        | 14/100 [01:16<07:49,  5.45s/it]"
     ]
    },
    {
     "name": "stdout",
     "output_type": "stream",
     "text": [
      "epoch:13 train_loss:0.1440 valid_loss:0.1058 train_auc:0.8852 valid_auc:0.8516\n",
      "沒進步\n",
      "沒進步總計:0\n"
     ]
    },
    {
     "name": "stderr",
     "output_type": "stream",
     "text": [
      "\r",
      " 15%|█▌        | 15/100 [01:21<07:43,  5.45s/it]"
     ]
    },
    {
     "name": "stdout",
     "output_type": "stream",
     "text": [
      "epoch:14 train_loss:0.1322 valid_loss:0.1131 train_auc:0.8895 valid_auc:0.8750\n",
      "沒進步\n",
      "沒進步總計:1\n"
     ]
    },
    {
     "name": "stderr",
     "output_type": "stream",
     "text": [
      "\r",
      " 16%|█▌        | 16/100 [01:27<07:39,  5.47s/it]"
     ]
    },
    {
     "name": "stdout",
     "output_type": "stream",
     "text": [
      "epoch:15 train_loss:0.1159 valid_loss:0.0965 train_auc:0.8978 valid_auc:0.9258\n",
      "有進步\n"
     ]
    },
    {
     "name": "stderr",
     "output_type": "stream",
     "text": [
      "\r",
      " 17%|█▋        | 17/100 [01:33<07:49,  5.65s/it]"
     ]
    },
    {
     "name": "stdout",
     "output_type": "stream",
     "text": [
      "epoch:16 train_loss:0.1185 valid_loss:0.1208 train_auc:0.8947 valid_auc:0.8750\n",
      "沒進步\n",
      "沒進步總計:1\n"
     ]
    },
    {
     "name": "stderr",
     "output_type": "stream",
     "text": [
      "\r",
      " 18%|█▊        | 18/100 [01:39<07:59,  5.84s/it]"
     ]
    },
    {
     "name": "stdout",
     "output_type": "stream",
     "text": [
      "epoch:17 train_loss:0.1097 valid_loss:0.0966 train_auc:0.9156 valid_auc:0.8906\n",
      "沒進步\n",
      "沒進步總計:2\n"
     ]
    },
    {
     "name": "stderr",
     "output_type": "stream",
     "text": [
      "\r",
      " 19%|█▉        | 19/100 [01:45<07:44,  5.74s/it]"
     ]
    },
    {
     "name": "stdout",
     "output_type": "stream",
     "text": [
      "epoch:18 train_loss:0.1085 valid_loss:0.2401 train_auc:0.9093 valid_auc:0.7656\n",
      "沒進步\n",
      "沒進步總計:3\n"
     ]
    },
    {
     "name": "stderr",
     "output_type": "stream",
     "text": [
      "\r",
      " 20%|██        | 20/100 [01:50<07:34,  5.69s/it]"
     ]
    },
    {
     "name": "stdout",
     "output_type": "stream",
     "text": [
      "epoch:19 train_loss:0.1034 valid_loss:0.1043 train_auc:0.9197 valid_auc:0.8906\n",
      "沒進步\n",
      "沒進步總計:4\n"
     ]
    },
    {
     "name": "stderr",
     "output_type": "stream",
     "text": [
      "\r",
      " 21%|██        | 21/100 [01:56<07:25,  5.64s/it]"
     ]
    },
    {
     "name": "stdout",
     "output_type": "stream",
     "text": [
      "epoch:20 train_loss:0.0987 valid_loss:0.1045 train_auc:0.9228 valid_auc:0.8828\n",
      "沒進步\n",
      "沒進步總計:5\n"
     ]
    },
    {
     "name": "stderr",
     "output_type": "stream",
     "text": [
      "\r",
      " 22%|██▏       | 22/100 [02:01<07:17,  5.61s/it]"
     ]
    },
    {
     "name": "stdout",
     "output_type": "stream",
     "text": [
      "epoch:21 train_loss:0.0887 valid_loss:0.1032 train_auc:0.9353 valid_auc:0.8711\n",
      "沒進步\n",
      "沒進步總計:6\n"
     ]
    },
    {
     "name": "stderr",
     "output_type": "stream",
     "text": [
      "\r",
      " 23%|██▎       | 23/100 [02:07<07:09,  5.58s/it]"
     ]
    },
    {
     "name": "stdout",
     "output_type": "stream",
     "text": [
      "epoch:22 train_loss:0.0751 valid_loss:0.1105 train_auc:0.9427 valid_auc:0.8789\n",
      "沒進步\n",
      "沒進步總計:7\n"
     ]
    },
    {
     "name": "stderr",
     "output_type": "stream",
     "text": [
      "\r",
      " 24%|██▍       | 24/100 [02:12<07:01,  5.54s/it]"
     ]
    },
    {
     "name": "stdout",
     "output_type": "stream",
     "text": [
      "epoch:23 train_loss:0.0682 valid_loss:0.1517 train_auc:0.9583 valid_auc:0.8477\n",
      "沒進步\n",
      "沒進步總計:8\n"
     ]
    },
    {
     "name": "stderr",
     "output_type": "stream",
     "text": [
      "\r",
      " 25%|██▌       | 25/100 [02:18<06:53,  5.52s/it]"
     ]
    },
    {
     "name": "stdout",
     "output_type": "stream",
     "text": [
      "epoch:24 train_loss:0.0696 valid_loss:0.1120 train_auc:0.9624 valid_auc:0.8711\n",
      "沒進步\n",
      "沒進步總計:9\n"
     ]
    },
    {
     "name": "stderr",
     "output_type": "stream",
     "text": [
      "\r",
      " 25%|██▌       | 25/100 [02:23<07:10,  5.75s/it]"
     ]
    },
    {
     "name": "stdout",
     "output_type": "stream",
     "text": [
      "epoch:25 train_loss:0.0643 valid_loss:0.1582 train_auc:0.9573 valid_auc:0.8320\n",
      "沒進步\n",
      "沒進步總計:10\n",
      "10次沒進步,提早結束訓練\n"
     ]
    },
    {
     "name": "stderr",
     "output_type": "stream",
     "text": [
      "\n"
     ]
    },
    {
     "data": {
      "image/png": "[encoded data removed]",
      "text/plain": [
       "<Figure size 432x288 with 1 Axes>"
      ]
     },
     "metadata": {
      "needs_background": "light"
     },
     "output_type": "display_data"
    },
    {
     "data": {
      "image/png": "[encoded data removed]",
      "text/plain": [
       "<Figure size 432x288 with 1 Axes>"
      ]
     },
     "metadata": {
      "needs_background": "light"
     },
     "output_type": "display_data"
    }
   ],
   "source": [
    "optimizer = Adam(model.parameters(),lr=5e-4)\n",
    "model = train(model,train_iter,vaild_iter,optimizer,loss_fn,max_epochs=100,log_interval=1,device=device)"
   ]
  },
  {
   "cell_type": "markdown",
   "metadata": {},
   "source": [
    "# model infernce test"
   ]
  },
  {
   "cell_type": "code",
   "execution_count": 68,
   "metadata": {},
   "outputs": [
    {
     "name": "stderr",
     "output_type": "stream",
     "text": [
      "100%|██████████| 30/30 [00:02<00:00, 13.36it/s]"
     ]
    },
    {
     "name": "stdout",
     "output_type": "stream",
     "text": [
      "0.9186652763295099\n"
     ]
    },
    {
     "name": "stderr",
     "output_type": "stream",
     "text": [
      "\n"
     ]
    },
    {
     "data": {
      "text/html": [
       "<div>\n",
       "<style scoped>\n",
       "    .dataframe tbody tr th:only-of-type {\n",
       "        vertical-align: middle;\n",
       "    }\n",
       "\n",
       "    .dataframe tbody tr th {\n",
       "        vertical-align: top;\n",
       "    }\n",
       "\n",
       "    .dataframe thead th {\n",
       "        text-align: right;\n",
       "    }\n",
       "</style>\n",
       "<table border=\"1\" class=\"dataframe\">\n",
       "  <thead>\n",
       "    <tr style=\"text-align: right;\">\n",
       "      <th></th>\n",
       "      <th>Barking</th>\n",
       "      <th>Howling</th>\n",
       "      <th>Crying</th>\n",
       "      <th>COSmoke</th>\n",
       "      <th>GlassBreaking</th>\n",
       "      <th>Blender</th>\n",
       "    </tr>\n",
       "  </thead>\n",
       "  <tbody>\n",
       "    <tr>\n",
       "      <th>0</th>\n",
       "      <td>138</td>\n",
       "      <td>4</td>\n",
       "      <td>3</td>\n",
       "      <td>1</td>\n",
       "      <td>0</td>\n",
       "      <td>0</td>\n",
       "    </tr>\n",
       "    <tr>\n",
       "      <th>1</th>\n",
       "      <td>9</td>\n",
       "      <td>149</td>\n",
       "      <td>18</td>\n",
       "      <td>1</td>\n",
       "      <td>0</td>\n",
       "      <td>1</td>\n",
       "    </tr>\n",
       "    <tr>\n",
       "      <th>2</th>\n",
       "      <td>3</td>\n",
       "      <td>3</td>\n",
       "      <td>127</td>\n",
       "      <td>0</td>\n",
       "      <td>0</td>\n",
       "      <td>1</td>\n",
       "    </tr>\n",
       "    <tr>\n",
       "      <th>3</th>\n",
       "      <td>2</td>\n",
       "      <td>1</td>\n",
       "      <td>10</td>\n",
       "      <td>158</td>\n",
       "      <td>4</td>\n",
       "      <td>0</td>\n",
       "    </tr>\n",
       "    <tr>\n",
       "      <th>4</th>\n",
       "      <td>3</td>\n",
       "      <td>0</td>\n",
       "      <td>0</td>\n",
       "      <td>0</td>\n",
       "      <td>153</td>\n",
       "      <td>2</td>\n",
       "    </tr>\n",
       "    <tr>\n",
       "      <th>5</th>\n",
       "      <td>5</td>\n",
       "      <td>3</td>\n",
       "      <td>2</td>\n",
       "      <td>0</td>\n",
       "      <td>2</td>\n",
       "      <td>156</td>\n",
       "    </tr>\n",
       "  </tbody>\n",
       "</table>\n",
       "</div>"
      ],
      "text/plain": [
       "   Barking  Howling  Crying  COSmoke  GlassBreaking  Blender\n",
       "0      138        4       3        1              0        0\n",
       "1        9      149      18        1              0        1\n",
       "2        3        3     127        0              0        1\n",
       "3        2        1      10      158              4        0\n",
       "4        3        0       0        0            153        2\n",
       "5        5        3       2        0              2      156"
      ]
     },
     "execution_count": 68,
     "metadata": {},
     "output_type": "execute_result"
    }
   ],
   "source": [
    "model.eval()\n",
    "cm,acc = plot_confusion_matrix(model.to(device),train_iter)\n",
    "print(acc)\n",
    "cm"
   ]
  },
  {
   "cell_type": "code",
   "execution_count": 69,
   "metadata": {},
   "outputs": [
    {
     "name": "stderr",
     "output_type": "stream",
     "text": [
      "100%|██████████| 8/8 [00:01<00:00,  6.33it/s]"
     ]
    },
    {
     "name": "stdout",
     "output_type": "stream",
     "text": [
      "0.925\n"
     ]
    },
    {
     "name": "stderr",
     "output_type": "stream",
     "text": [
      "\n"
     ]
    },
    {
     "data": {
      "text/html": [
       "<div>\n",
       "<style scoped>\n",
       "    .dataframe tbody tr th:only-of-type {\n",
       "        vertical-align: middle;\n",
       "    }\n",
       "\n",
       "    .dataframe tbody tr th {\n",
       "        vertical-align: top;\n",
       "    }\n",
       "\n",
       "    .dataframe thead th {\n",
       "        text-align: right;\n",
       "    }\n",
       "</style>\n",
       "<table border=\"1\" class=\"dataframe\">\n",
       "  <thead>\n",
       "    <tr style=\"text-align: right;\">\n",
       "      <th></th>\n",
       "      <th>Barking</th>\n",
       "      <th>Howling</th>\n",
       "      <th>Crying</th>\n",
       "      <th>COSmoke</th>\n",
       "      <th>GlassBreaking</th>\n",
       "      <th>Blender</th>\n",
       "    </tr>\n",
       "  </thead>\n",
       "  <tbody>\n",
       "    <tr>\n",
       "      <th>0</th>\n",
       "      <td>33</td>\n",
       "      <td>2</td>\n",
       "      <td>0</td>\n",
       "      <td>0</td>\n",
       "      <td>0</td>\n",
       "      <td>0</td>\n",
       "    </tr>\n",
       "    <tr>\n",
       "      <th>1</th>\n",
       "      <td>2</td>\n",
       "      <td>36</td>\n",
       "      <td>2</td>\n",
       "      <td>0</td>\n",
       "      <td>0</td>\n",
       "      <td>0</td>\n",
       "    </tr>\n",
       "    <tr>\n",
       "      <th>2</th>\n",
       "      <td>0</td>\n",
       "      <td>2</td>\n",
       "      <td>36</td>\n",
       "      <td>0</td>\n",
       "      <td>0</td>\n",
       "      <td>2</td>\n",
       "    </tr>\n",
       "    <tr>\n",
       "      <th>3</th>\n",
       "      <td>2</td>\n",
       "      <td>0</td>\n",
       "      <td>0</td>\n",
       "      <td>40</td>\n",
       "      <td>0</td>\n",
       "      <td>0</td>\n",
       "    </tr>\n",
       "    <tr>\n",
       "      <th>4</th>\n",
       "      <td>0</td>\n",
       "      <td>0</td>\n",
       "      <td>0</td>\n",
       "      <td>0</td>\n",
       "      <td>39</td>\n",
       "      <td>0</td>\n",
       "    </tr>\n",
       "    <tr>\n",
       "      <th>5</th>\n",
       "      <td>3</td>\n",
       "      <td>0</td>\n",
       "      <td>2</td>\n",
       "      <td>0</td>\n",
       "      <td>1</td>\n",
       "      <td>38</td>\n",
       "    </tr>\n",
       "  </tbody>\n",
       "</table>\n",
       "</div>"
      ],
      "text/plain": [
       "   Barking  Howling  Crying  COSmoke  GlassBreaking  Blender\n",
       "0       33        2       0        0              0        0\n",
       "1        2       36       2        0              0        0\n",
       "2        0        2      36        0              0        2\n",
       "3        2        0       0       40              0        0\n",
       "4        0        0       0        0             39        0\n",
       "5        3        0       2        0              1       38"
      ]
     },
     "execution_count": 69,
     "metadata": {},
     "output_type": "execute_result"
    }
   ],
   "source": [
    "cm,acc = plot_confusion_matrix(model.to(device),vaild_iter)\n",
    "print(acc)\n",
    "cm"
   ]
  },
  {
   "cell_type": "markdown",
   "metadata": {},
   "source": [
    "# submit"
   ]
  },
  {
   "cell_type": "code",
   "execution_count": 70,
   "metadata": {},
   "outputs": [
    {
     "name": "stdout",
     "output_type": "stream",
     "text": [
      "10000\n"
     ]
    }
   ],
   "source": [
    "print(X_test_all.shape[0])"
   ]
  },
  {
   "cell_type": "code",
   "execution_count": 71,
   "metadata": {},
   "outputs": [
    {
     "name": "stdout",
     "output_type": "stream",
     "text": [
      "959\n"
     ]
    }
   ],
   "source": [
    "print(X_train.shape[0])"
   ]
  },
  {
   "cell_type": "code",
   "execution_count": 72,
   "metadata": {},
   "outputs": [
    {
     "name": "stdout",
     "output_type": "stream",
     "text": [
      "240\n"
     ]
    }
   ],
   "source": [
    "print(X_valid.shape[0])"
   ]
  },
  {
   "cell_type": "code",
   "execution_count": 73,
   "metadata": {},
   "outputs": [
    {
     "data": {
      "text/plain": [
       "torch.Size([10000, 1, 80, 157])"
      ]
     },
     "execution_count": 73,
     "metadata": {},
     "output_type": "execute_result"
    }
   ],
   "source": [
    "X_test = X_test_all\n",
    "X_test.shape"
   ]
  },
  {
   "cell_type": "code",
   "execution_count": 74,
   "metadata": {},
   "outputs": [
    {
     "name": "stderr",
     "output_type": "stream",
     "text": [
      "100%|██████████| 100/100 [00:04<00:00, 24.67it/s]\n"
     ]
    },
    {
     "data": {
      "text/html": [
       "<div>\n",
       "<style scoped>\n",
       "    .dataframe tbody tr th:only-of-type {\n",
       "        vertical-align: middle;\n",
       "    }\n",
       "\n",
       "    .dataframe tbody tr th {\n",
       "        vertical-align: top;\n",
       "    }\n",
       "\n",
       "    .dataframe thead th {\n",
       "        text-align: right;\n",
       "    }\n",
       "</style>\n",
       "<table border=\"1\" class=\"dataframe\">\n",
       "  <thead>\n",
       "    <tr style=\"text-align: right;\">\n",
       "      <th></th>\n",
       "      <th>Filename</th>\n",
       "      <th>Barking</th>\n",
       "      <th>Howling</th>\n",
       "      <th>Crying</th>\n",
       "      <th>COSmoke</th>\n",
       "      <th>GlassBreaking</th>\n",
       "      <th>Other</th>\n",
       "    </tr>\n",
       "  </thead>\n",
       "  <tbody>\n",
       "    <tr>\n",
       "      <th>0</th>\n",
       "      <td>public_00001</td>\n",
       "      <td>-4.880972</td>\n",
       "      <td>-2.350693</td>\n",
       "      <td>-4.378297</td>\n",
       "      <td>-2.980938</td>\n",
       "      <td>-4.610637</td>\n",
       "      <td>0.516920</td>\n",
       "    </tr>\n",
       "    <tr>\n",
       "      <th>1</th>\n",
       "      <td>public_00002</td>\n",
       "      <td>-4.425443</td>\n",
       "      <td>-2.457747</td>\n",
       "      <td>-3.477709</td>\n",
       "      <td>-3.478626</td>\n",
       "      <td>-4.560862</td>\n",
       "      <td>1.229506</td>\n",
       "    </tr>\n",
       "    <tr>\n",
       "      <th>2</th>\n",
       "      <td>public_00003</td>\n",
       "      <td>-1.161631</td>\n",
       "      <td>-4.127628</td>\n",
       "      <td>-4.631261</td>\n",
       "      <td>-1.013216</td>\n",
       "      <td>-3.408715</td>\n",
       "      <td>-3.319495</td>\n",
       "    </tr>\n",
       "    <tr>\n",
       "      <th>3</th>\n",
       "      <td>public_00004</td>\n",
       "      <td>-3.842002</td>\n",
       "      <td>-2.104884</td>\n",
       "      <td>-3.741133</td>\n",
       "      <td>-3.128922</td>\n",
       "      <td>-2.694792</td>\n",
       "      <td>-0.222040</td>\n",
       "    </tr>\n",
       "    <tr>\n",
       "      <th>4</th>\n",
       "      <td>public_00005</td>\n",
       "      <td>-3.281715</td>\n",
       "      <td>-3.553560</td>\n",
       "      <td>-0.893427</td>\n",
       "      <td>-1.286158</td>\n",
       "      <td>-2.406097</td>\n",
       "      <td>-2.491866</td>\n",
       "    </tr>\n",
       "    <tr>\n",
       "      <th>...</th>\n",
       "      <td>...</td>\n",
       "      <td>...</td>\n",
       "      <td>...</td>\n",
       "      <td>...</td>\n",
       "      <td>...</td>\n",
       "      <td>...</td>\n",
       "      <td>...</td>\n",
       "    </tr>\n",
       "    <tr>\n",
       "      <th>29995</th>\n",
       "      <td>private_19996</td>\n",
       "      <td>0.166600</td>\n",
       "      <td>0.166600</td>\n",
       "      <td>0.166600</td>\n",
       "      <td>0.166600</td>\n",
       "      <td>0.166600</td>\n",
       "      <td>0.167000</td>\n",
       "    </tr>\n",
       "    <tr>\n",
       "      <th>29996</th>\n",
       "      <td>private_19997</td>\n",
       "      <td>0.166600</td>\n",
       "      <td>0.166600</td>\n",
       "      <td>0.166600</td>\n",
       "      <td>0.166600</td>\n",
       "      <td>0.166600</td>\n",
       "      <td>0.167000</td>\n",
       "    </tr>\n",
       "    <tr>\n",
       "      <th>29997</th>\n",
       "      <td>private_19998</td>\n",
       "      <td>0.166600</td>\n",
       "      <td>0.166600</td>\n",
       "      <td>0.166600</td>\n",
       "      <td>0.166600</td>\n",
       "      <td>0.166600</td>\n",
       "      <td>0.167000</td>\n",
       "    </tr>\n",
       "    <tr>\n",
       "      <th>29998</th>\n",
       "      <td>private_19999</td>\n",
       "      <td>0.166600</td>\n",
       "      <td>0.166600</td>\n",
       "      <td>0.166600</td>\n",
       "      <td>0.166600</td>\n",
       "      <td>0.166600</td>\n",
       "      <td>0.167000</td>\n",
       "    </tr>\n",
       "    <tr>\n",
       "      <th>29999</th>\n",
       "      <td>private_20000</td>\n",
       "      <td>0.166600</td>\n",
       "      <td>0.166600</td>\n",
       "      <td>0.166600</td>\n",
       "      <td>0.166600</td>\n",
       "      <td>0.166600</td>\n",
       "      <td>0.167000</td>\n",
       "    </tr>\n",
       "  </tbody>\n",
       "</table>\n",
       "<p>30000 rows × 7 columns</p>\n",
       "</div>"
      ],
      "text/plain": [
       "            Filename   Barking   Howling    Crying   COSmoke  GlassBreaking  \\\n",
       "0       public_00001 -4.880972 -2.350693 -4.378297 -2.980938      -4.610637   \n",
       "1       public_00002 -4.425443 -2.457747 -3.477709 -3.478626      -4.560862   \n",
       "2       public_00003 -1.161631 -4.127628 -4.631261 -1.013216      -3.408715   \n",
       "3       public_00004 -3.842002 -2.104884 -3.741133 -3.128922      -2.694792   \n",
       "4       public_00005 -3.281715 -3.553560 -0.893427 -1.286158      -2.406097   \n",
       "...              ...       ...       ...       ...       ...            ...   \n",
       "29995  private_19996  0.166600  0.166600  0.166600  0.166600       0.166600   \n",
       "29996  private_19997  0.166600  0.166600  0.166600  0.166600       0.166600   \n",
       "29997  private_19998  0.166600  0.166600  0.166600  0.166600       0.166600   \n",
       "29998  private_19999  0.166600  0.166600  0.166600  0.166600       0.166600   \n",
       "29999  private_20000  0.166600  0.166600  0.166600  0.166600       0.166600   \n",
       "\n",
       "          Other  \n",
       "0      0.516920  \n",
       "1      1.229506  \n",
       "2     -3.319495  \n",
       "3     -0.222040  \n",
       "4     -2.491866  \n",
       "...         ...  \n",
       "29995  0.167000  \n",
       "29996  0.167000  \n",
       "29997  0.167000  \n",
       "29998  0.167000  \n",
       "29999  0.167000  \n",
       "\n",
       "[30000 rows x 7 columns]"
      ]
     },
     "execution_count": 74,
     "metadata": {},
     "output_type": "execute_result"
    }
   ],
   "source": [
    "sample_submit = pd.read_csv('sample_submission.csv')\n",
    "model = model.to('cuda:0')\n",
    "model.eval()\n",
    "batch = 100\n",
    "for i in tqdm(range(0,X_test.shape[0]-batch+1,batch)):\n",
    "    sample_submit.iloc[i:i+batch,1:] = model(X_test[i:i+batch].to(torch.float32).cuda()).detach().cpu().numpy()\n",
    "sample_submit"
   ]
  },
  {
   "cell_type": "code",
   "execution_count": 75,
   "metadata": {},
   "outputs": [
    {
     "data": {
      "text/plain": [
       "array([[0.00409589, 0.05143221, 0.00677108, 0.02738565, 0.00536728,\n",
       "        0.9049479 ],\n",
       "       [0.00333459, 0.02385625, 0.00860277, 0.00859488, 0.00291227,\n",
       "        0.95269924],\n",
       "       [0.40585905, 0.02090542, 0.01263379, 0.4707938 , 0.04290213,\n",
       "        0.04690581],\n",
       "       ...,\n",
       "       [0.16665555, 0.16665555, 0.16665555, 0.16665555, 0.16665555,\n",
       "        0.16672223],\n",
       "       [0.16665555, 0.16665555, 0.16665555, 0.16665555, 0.16665555,\n",
       "        0.16672223],\n",
       "       [0.16665555, 0.16665555, 0.16665555, 0.16665555, 0.16665555,\n",
       "        0.16672223]])"
      ]
     },
     "execution_count": 75,
     "metadata": {},
     "output_type": "execute_result"
    }
   ],
   "source": [
    "from scipy.special import softmax\n",
    "a = softmax(sample_submit.iloc[:,1:].values,axis=1)\n",
    "a"
   ]
  },
  {
   "cell_type": "code",
   "execution_count": 76,
   "metadata": {},
   "outputs": [
    {
     "data": {
      "text/html": [
       "<div>\n",
       "<style scoped>\n",
       "    .dataframe tbody tr th:only-of-type {\n",
       "        vertical-align: middle;\n",
       "    }\n",
       "\n",
       "    .dataframe tbody tr th {\n",
       "        vertical-align: top;\n",
       "    }\n",
       "\n",
       "    .dataframe thead th {\n",
       "        text-align: right;\n",
       "    }\n",
       "</style>\n",
       "<table border=\"1\" class=\"dataframe\">\n",
       "  <thead>\n",
       "    <tr style=\"text-align: right;\">\n",
       "      <th></th>\n",
       "      <th>Filename</th>\n",
       "      <th>Barking</th>\n",
       "      <th>Howling</th>\n",
       "      <th>Crying</th>\n",
       "      <th>COSmoke</th>\n",
       "      <th>GlassBreaking</th>\n",
       "      <th>Other</th>\n",
       "    </tr>\n",
       "  </thead>\n",
       "  <tbody>\n",
       "    <tr>\n",
       "      <th>0</th>\n",
       "      <td>public_00001</td>\n",
       "      <td>0.004096</td>\n",
       "      <td>0.051432</td>\n",
       "      <td>0.006771</td>\n",
       "      <td>0.027386</td>\n",
       "      <td>0.005367</td>\n",
       "      <td>0.904948</td>\n",
       "    </tr>\n",
       "    <tr>\n",
       "      <th>1</th>\n",
       "      <td>public_00002</td>\n",
       "      <td>0.003335</td>\n",
       "      <td>0.023856</td>\n",
       "      <td>0.008603</td>\n",
       "      <td>0.008595</td>\n",
       "      <td>0.002912</td>\n",
       "      <td>0.952699</td>\n",
       "    </tr>\n",
       "    <tr>\n",
       "      <th>2</th>\n",
       "      <td>public_00003</td>\n",
       "      <td>0.405859</td>\n",
       "      <td>0.020905</td>\n",
       "      <td>0.012634</td>\n",
       "      <td>0.470794</td>\n",
       "      <td>0.042902</td>\n",
       "      <td>0.046906</td>\n",
       "    </tr>\n",
       "    <tr>\n",
       "      <th>3</th>\n",
       "      <td>public_00004</td>\n",
       "      <td>0.019876</td>\n",
       "      <td>0.112912</td>\n",
       "      <td>0.021985</td>\n",
       "      <td>0.040552</td>\n",
       "      <td>0.062596</td>\n",
       "      <td>0.742079</td>\n",
       "    </tr>\n",
       "    <tr>\n",
       "      <th>4</th>\n",
       "      <td>public_00005</td>\n",
       "      <td>0.040623</td>\n",
       "      <td>0.030954</td>\n",
       "      <td>0.442582</td>\n",
       "      <td>0.298836</td>\n",
       "      <td>0.097510</td>\n",
       "      <td>0.089495</td>\n",
       "    </tr>\n",
       "    <tr>\n",
       "      <th>...</th>\n",
       "      <td>...</td>\n",
       "      <td>...</td>\n",
       "      <td>...</td>\n",
       "      <td>...</td>\n",
       "      <td>...</td>\n",
       "      <td>...</td>\n",
       "      <td>...</td>\n",
       "    </tr>\n",
       "    <tr>\n",
       "      <th>29995</th>\n",
       "      <td>private_19996</td>\n",
       "      <td>0.166656</td>\n",
       "      <td>0.166656</td>\n",
       "      <td>0.166656</td>\n",
       "      <td>0.166656</td>\n",
       "      <td>0.166656</td>\n",
       "      <td>0.166722</td>\n",
       "    </tr>\n",
       "    <tr>\n",
       "      <th>29996</th>\n",
       "      <td>private_19997</td>\n",
       "      <td>0.166656</td>\n",
       "      <td>0.166656</td>\n",
       "      <td>0.166656</td>\n",
       "      <td>0.166656</td>\n",
       "      <td>0.166656</td>\n",
       "      <td>0.166722</td>\n",
       "    </tr>\n",
       "    <tr>\n",
       "      <th>29997</th>\n",
       "      <td>private_19998</td>\n",
       "      <td>0.166656</td>\n",
       "      <td>0.166656</td>\n",
       "      <td>0.166656</td>\n",
       "      <td>0.166656</td>\n",
       "      <td>0.166656</td>\n",
       "      <td>0.166722</td>\n",
       "    </tr>\n",
       "    <tr>\n",
       "      <th>29998</th>\n",
       "      <td>private_19999</td>\n",
       "      <td>0.166656</td>\n",
       "      <td>0.166656</td>\n",
       "      <td>0.166656</td>\n",
       "      <td>0.166656</td>\n",
       "      <td>0.166656</td>\n",
       "      <td>0.166722</td>\n",
       "    </tr>\n",
       "    <tr>\n",
       "      <th>29999</th>\n",
       "      <td>private_20000</td>\n",
       "      <td>0.166656</td>\n",
       "      <td>0.166656</td>\n",
       "      <td>0.166656</td>\n",
       "      <td>0.166656</td>\n",
       "      <td>0.166656</td>\n",
       "      <td>0.166722</td>\n",
       "    </tr>\n",
       "  </tbody>\n",
       "</table>\n",
       "<p>30000 rows × 7 columns</p>\n",
       "</div>"
      ],
      "text/plain": [
       "            Filename   Barking   Howling    Crying   COSmoke  GlassBreaking  \\\n",
       "0       public_00001  0.004096  0.051432  0.006771  0.027386       0.005367   \n",
       "1       public_00002  0.003335  0.023856  0.008603  0.008595       0.002912   \n",
       "2       public_00003  0.405859  0.020905  0.012634  0.470794       0.042902   \n",
       "3       public_00004  0.019876  0.112912  0.021985  0.040552       0.062596   \n",
       "4       public_00005  0.040623  0.030954  0.442582  0.298836       0.097510   \n",
       "...              ...       ...       ...       ...       ...            ...   \n",
       "29995  private_19996  0.166656  0.166656  0.166656  0.166656       0.166656   \n",
       "29996  private_19997  0.166656  0.166656  0.166656  0.166656       0.166656   \n",
       "29997  private_19998  0.166656  0.166656  0.166656  0.166656       0.166656   \n",
       "29998  private_19999  0.166656  0.166656  0.166656  0.166656       0.166656   \n",
       "29999  private_20000  0.166656  0.166656  0.166656  0.166656       0.166656   \n",
       "\n",
       "          Other  \n",
       "0      0.904948  \n",
       "1      0.952699  \n",
       "2      0.046906  \n",
       "3      0.742079  \n",
       "4      0.089495  \n",
       "...         ...  \n",
       "29995  0.166722  \n",
       "29996  0.166722  \n",
       "29997  0.166722  \n",
       "29998  0.166722  \n",
       "29999  0.166722  \n",
       "\n",
       "[30000 rows x 7 columns]"
      ]
     },
     "execution_count": 76,
     "metadata": {},
     "output_type": "execute_result"
    }
   ],
   "source": [
    "sample_submit.iloc[:,1:] = a\n",
    "sample_submit"
   ]
  },
  {
   "cell_type": "code",
   "execution_count": 77,
   "metadata": {},
   "outputs": [
    {
     "data": {
      "text/plain": [
       "Filename         public_00123\n",
       "Barking              0.076442\n",
       "Howling              0.163649\n",
       "Crying               0.045554\n",
       "COSmoke              0.008805\n",
       "GlassBreaking        0.050568\n",
       "Other                0.654982\n",
       "Name: 122, dtype: object"
      ]
     },
     "execution_count": 77,
     "metadata": {},
     "output_type": "execute_result"
    }
   ],
   "source": [
    "sample_submit.iloc[122]"
   ]
  },
  {
   "cell_type": "code",
   "execution_count": 78,
   "metadata": {},
   "outputs": [
    {
     "data": {
      "text/plain": [
       "0        1.0\n",
       "1        1.0\n",
       "2        1.0\n",
       "3        1.0\n",
       "4        1.0\n",
       "        ... \n",
       "29995    1.0\n",
       "29996    1.0\n",
       "29997    1.0\n",
       "29998    1.0\n",
       "29999    1.0\n",
       "Length: 30000, dtype: float64"
      ]
     },
     "execution_count": 78,
     "metadata": {},
     "output_type": "execute_result"
    }
   ],
   "source": [
    "sample_submit.sum(axis=1)"
   ]
  },
  {
   "cell_type": "code",
   "execution_count": 79,
   "metadata": {},
   "outputs": [
    {
     "data": {
      "text/plain": [
       "0.925"
      ]
     },
     "execution_count": 79,
     "metadata": {},
     "output_type": "execute_result"
    }
   ],
   "source": [
    "acc"
   ]
  },
  {
   "cell_type": "code",
   "execution_count": 80,
   "metadata": {},
   "outputs": [
    {
     "name": "stdout",
     "output_type": "stream",
     "text": [
      "2021-06-10-00-14-38\n"
     ]
    }
   ],
   "source": [
    "import time # 引入time\n",
    "\n",
    "time_stamp = time.time() # 設定timeStamp\n",
    "struct_time = time.localtime(time_stamp) # 轉成時間元組\n",
    "timeString = time.strftime(\"%Y-%m-%d-%H-%M-%S\", struct_time) # 轉成字串\n",
    "print(timeString)"
   ]
  },
  {
   "cell_type": "code",
   "execution_count": 81,
   "metadata": {},
   "outputs": [
    {
     "name": "stdout",
     "output_type": "stream",
     "text": [
      "done\n"
     ]
    }
   ],
   "source": [
    "# save\n",
    "sample_submit.to_csv(f'senet20_{timeString}_random_state{seed}_validacc_{acc}_959訓練240驗證.csv',index=False)\n",
    "torch.save(model.state_dict(),f'senet20_{timeString}_random_state{seed}_validacc_{acc}_959訓練240驗證.pt')\n",
    "print('done')"
   ]
  },
  {
   "cell_type": "code",
   "execution_count": null,
   "metadata": {},
   "outputs": [],
   "source": []
  }
 ],
 "metadata": {
  "kernelspec": {
   "display_name": "Python 3",
   "language": "python",
   "name": "python3"
  },
  "language_info": {
   "codemirror_mode": {
    "name": "ipython",
    "version": 3
   },
   "file_extension": ".py",
   "mimetype": "text/x-python",
   "name": "python",
   "nbconvert_exporter": "python",
   "pygments_lexer": "ipython3",
   "version": "3.7.4"
  }
 },
 "nbformat": 4,
 "nbformat_minor": 2
}
